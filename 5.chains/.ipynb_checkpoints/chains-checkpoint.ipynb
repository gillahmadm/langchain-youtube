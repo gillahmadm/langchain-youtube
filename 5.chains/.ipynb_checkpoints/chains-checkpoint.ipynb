{
 "cells": [
  {
   "cell_type": "markdown",
   "id": "4b2f2424-ba93-44ee-9cc9-d2207b5188da",
   "metadata": {},
   "source": [
    "# Chains"
   ]
  },
  {
   "cell_type": "markdown",
   "id": "b61a22ad-7acb-46cb-a1b0-e4e016e99cba",
   "metadata": {},
   "source": []
  },
  {
   "cell_type": "markdown",
   "id": "8e825b39-e36b-452d-98c8-3b0bed36f442",
   "metadata": {},
   "source": [
    "### LLMChain — the foundation"
   ]
  },
  {
   "cell_type": "code",
   "execution_count": null,
   "id": "5ee5af26-506d-4f9f-a429-9d674b7fd6c6",
   "metadata": {},
   "outputs": [],
   "source": []
  },
  {
   "cell_type": "code",
   "execution_count": 1,
   "id": "063fe895-d3b9-411c-b230-09abfadff239",
   "metadata": {},
   "outputs": [
    {
     "name": "stderr",
     "output_type": "stream",
     "text": [
      "/var/folders/gw/7drtsfp15szdbnn4sc1wt56c0000gn/T/ipykernel_90327/2728611524.py:16: LangChainDeprecationWarning: The class `LLMChain` was deprecated in LangChain 0.1.17 and will be removed in 1.0. Use :meth:`~RunnableSequence, e.g., `prompt | llm`` instead.\n",
      "  title_chain = LLMChain(llm=llm, prompt=prompt, verbose=True)\n",
      "/var/folders/gw/7drtsfp15szdbnn4sc1wt56c0000gn/T/ipykernel_90327/2728611524.py:17: LangChainDeprecationWarning: The method `Chain.run` was deprecated in langchain 0.1.0 and will be removed in 1.0. Use :meth:`~invoke` instead.\n",
      "  print(title_chain.run(topic=\"LangChain Chains\", audience=\"Python developers\"))\n"
     ]
    },
    {
     "name": "stdout",
     "output_type": "stream",
     "text": [
      "\n",
      "\n",
      "\u001b[1m> Entering new LLMChain chain...\u001b[0m\n",
      "Prompt after formatting:\n",
      "\u001b[32;1m\u001b[1;3mYou are a helpful writing assistant.\n",
      "Write a catchy YouTube title about LangChain Chains for Python developers. Keep it under 75 characters.\u001b[0m\n",
      "\n",
      "\u001b[1m> Finished chain.\u001b[0m\n",
      "\"Unlocking LangChain: Essential Chains Every Python Developer Needs!\"\n"
     ]
    }
   ],
   "source": [
    "from langchain_openai import ChatOpenAI\n",
    "from langchain.prompts import PromptTemplate\n",
    "from langchain.chains import LLMChain\n",
    "\n",
    "llm = ChatOpenAI(model=\"gpt-4o-mini\", temperature=0.2)\n",
    "\n",
    "prompt = PromptTemplate(\n",
    "    input_variables=[\"topic\", \"audience\"],\n",
    "    template=(\n",
    "        \"You are a helpful writing assistant.\\n\"\n",
    "        \"Write a catchy YouTube title about {topic} for {audience}. \"\n",
    "        \"Keep it under 75 characters.\"\n",
    "    )\n",
    ")\n",
    "\n"
   ]
  },
  {
   "cell_type": "markdown",
   "id": "94fadc47-cfde-45f1-be45-4f59278a045b",
   "metadata": {},
   "source": [
    "** get prompt -> call llm **\n"
   ]
  },
  {
   "cell_type": "code",
   "execution_count": 5,
   "id": "7ba28188-497f-48b9-bb5f-5034b1fd1877",
   "metadata": {},
   "outputs": [
    {
     "name": "stdout",
     "output_type": "stream",
     "text": [
      "text='You are a helpful writing assistant.\\nWrite a catchy YouTube title about LangChain Chains for Python developers. Keep it under 75 characters.'\n"
     ]
    }
   ],
   "source": [
    "prompt_text = prompt.invoke({\"topic\": \"LangChain Chains\", \"audience\": \"Python developers\"})\n",
    "print(\"prompt : \" ,prompt_text)\n",
    "result = llm.invoke(prompt_text)\n",
    "print(\"Result : \", result.content)"
   ]
  },
  {
   "cell_type": "code",
   "execution_count": 6,
   "id": "5a6d1f76-c4e3-47ae-bd13-fe0596ed1164",
   "metadata": {},
   "outputs": [
    {
     "name": "stdout",
     "output_type": "stream",
     "text": [
      "\n",
      "\n",
      "\u001b[1m> Entering new LLMChain chain...\u001b[0m\n",
      "Prompt after formatting:\n",
      "\u001b[32;1m\u001b[1;3mYou are a helpful writing assistant.\n",
      "Write a catchy YouTube title about LangChain Chains for Python developers. Keep it under 75 characters.\u001b[0m\n",
      "\n",
      "\u001b[1m> Finished chain.\u001b[0m\n"
     ]
    },
    {
     "data": {
      "text/plain": [
       "'\"Unlocking LangChain: Essential Chains for Python Developers!\"'"
      ]
     },
     "execution_count": 6,
     "metadata": {},
     "output_type": "execute_result"
    }
   ],
   "source": [
    "title_chain = LLMChain(llm=llm, prompt=prompt, verbose=True)\n",
    "title_chain.run(topic=\"LangChain Chains\", audience=\"Python developers\")"
   ]
  },
  {
   "cell_type": "markdown",
   "id": "e6ae6a72-6fd4-4f0e-9db7-0fa491a2d2d5",
   "metadata": {},
   "source": [
    "### SimpleSequentialChain — pass string forward"
   ]
  },
  {
   "cell_type": "code",
   "execution_count": 7,
   "id": "60f9e56b-cd91-4fc0-891a-48ead9b6db3c",
   "metadata": {},
   "outputs": [
    {
     "name": "stdout",
     "output_type": "stream",
     "text": [
      "\n",
      "\n",
      "\u001b[1m> Entering new SimpleSequentialChain chain...\u001b[0m\n",
      "\u001b[36;1m\u001b[1;3m\"Unlock the Power of LangChain: Master Python Chains in Minutes!\"\u001b[0m\n",
      "\u001b[33;1m\u001b[1;3m### Outline for \"Unlock the Power of LangChain: Master Python Chains in Minutes!\"\n",
      "\n",
      "1. **Introduction to LangChain**\n",
      "   - Overview of LangChain and its significance in Python programming.\n",
      "   - Brief explanation of what chains are and their applications in various domains.\n",
      "\n",
      "2. **Setting Up Your Environment**\n",
      "   - Step-by-step guide to installing LangChain and necessary dependencies.\n",
      "   - Tips for configuring your development environment for optimal performance.\n",
      "\n",
      "3. **Understanding the Basics of Python Chains**\n",
      "   - Explanation of core concepts: nodes, links, and workflows.\n",
      "   - Simple examples to illustrate how chains function in practice.\n",
      "\n",
      "4. **Building Your First Chain**\n",
      "   - A hands-on tutorial to create a basic chain from scratch.\n",
      "   - Incorporating user input and data processing to enhance functionality.\n",
      "\n",
      "5. **Advanced Techniques and Best Practices**\n",
      "   - Exploring advanced features like error handling, optimization, and debugging.\n",
      "   - Tips for scaling your chains and integrating them into larger projects.\u001b[0m\n",
      "\n",
      "\u001b[1m> Finished chain.\u001b[0m\n",
      "### Outline for \"Unlock the Power of LangChain: Master Python Chains in Minutes!\"\n",
      "\n",
      "1. **Introduction to LangChain**\n",
      "   - Overview of LangChain and its significance in Python programming.\n",
      "   - Brief explanation of what chains are and their applications in various domains.\n",
      "\n",
      "2. **Setting Up Your Environment**\n",
      "   - Step-by-step guide to installing LangChain and necessary dependencies.\n",
      "   - Tips for configuring your development environment for optimal performance.\n",
      "\n",
      "3. **Understanding the Basics of Python Chains**\n",
      "   - Explanation of core concepts: nodes, links, and workflows.\n",
      "   - Simple examples to illustrate how chains function in practice.\n",
      "\n",
      "4. **Building Your First Chain**\n",
      "   - A hands-on tutorial to create a basic chain from scratch.\n",
      "   - Incorporating user input and data processing to enhance functionality.\n",
      "\n",
      "5. **Advanced Techniques and Best Practices**\n",
      "   - Exploring advanced features like error handling, optimization, and debugging.\n",
      "   - Tips for scaling your chains and integrating them into larger projects.\n"
     ]
    }
   ],
   "source": [
    "from langchain.chains import SimpleSequentialChain\n",
    "\n",
    "prompt1 = PromptTemplate.from_template(\n",
    "    \"Write a clicky YouTube title about: {topic}\"\n",
    ")\n",
    "chain1 = LLMChain(llm=llm, prompt=prompt1)\n",
    "\n",
    "prompt2 = PromptTemplate.from_template(\n",
    "    \"Create a 5-bullet outline for this title:\\n{title}\"\n",
    ")\n",
    "chain2 = LLMChain(llm=llm, prompt=prompt2)\n",
    "\n",
    "pipeline = SimpleSequentialChain(chains=[chain1, chain2], verbose=True)\n",
    "\n",
    "outline = pipeline.run(\"LangChain Chains in Python\")\n",
    "print(outline)\n"
   ]
  },
  {
   "cell_type": "markdown",
   "id": "ae204efa-df8c-47d2-ba84-8907c0d0d4a5",
   "metadata": {},
   "source": [
    "### SequentialChain — named inputs & outputs"
   ]
  },
  {
   "cell_type": "code",
   "execution_count": 8,
   "id": "78bc6ac1-f5db-4d5b-b21d-fb1d57949f36",
   "metadata": {},
   "outputs": [
    {
     "name": "stderr",
     "output_type": "stream",
     "text": [
      "/var/folders/gw/7drtsfp15szdbnn4sc1wt56c0000gn/T/ipykernel_90327/2288441536.py:26: LangChainDeprecationWarning: The method `Chain.__call__` was deprecated in langchain 0.1.0 and will be removed in 1.0. Use :meth:`~invoke` instead.\n",
      "  result = seq({\"topic\": \"LangChain Chains\", \"audience\": \"Python devs\"})\n"
     ]
    },
    {
     "name": "stdout",
     "output_type": "stream",
     "text": [
      "\n",
      "\n",
      "\u001b[1m> Entering new SequentialChain chain...\u001b[0m\n",
      "\n",
      "\u001b[1m> Finished chain.\u001b[0m\n",
      "{'topic': 'LangChain Chains', 'audience': 'Python devs', 'title': '\"Mastering LangChain: A Python Developer\\'s Guide to Building Intelligent Chains\"', 'description': \"Unlock the power of LangChain in this comprehensive guide tailored for Python developers! In this video, we’ll explore the fundamentals of building intelligent chains, diving deep into practical examples and best practices. Whether you're a seasoned developer or just starting out, you'll learn how to leverage LangChain to create robust applications that integrate seamlessly with language models. Join us as we break down complex concepts into easy-to-understand segments, ensuring you gain the skills needed to master this innovative framework. Don’t forget to like, subscribe, and hit the notification bell for more insightful content! \\n\\n#LangChain #PythonDevelopment #AIApplications\", 'keywords': 'LangChain, Python developer guide, building intelligent chains, AI applications, LangChain tutorial, Python programming, language models, machine learning, software development, practical examples, best practices, robust applications'}\n"
     ]
    }
   ],
   "source": [
    "from langchain.chains import SequentialChain\n",
    "\n",
    "title_prompt = PromptTemplate.from_template(\n",
    "    \"Generate a concise title about {topic} for {audience}.\"\n",
    ")\n",
    "title_chain = LLMChain(llm=llm, prompt=title_prompt, output_key=\"title\")\n",
    "\n",
    "desc_prompt = PromptTemplate.from_template(\n",
    "    \"Write a YouTube description (80–120 words) for the title:\\n{title}\\n\"\n",
    "    \"Audience: {audience}\\nInclude 3 hashtags.\"\n",
    ")\n",
    "desc_chain = LLMChain(llm=llm, prompt=desc_prompt, output_key=\"description\")\n",
    "\n",
    "kw_prompt = PromptTemplate.from_template(\n",
    "    \"Give 12 comma-separated SEO keywords for:\\nTitle: {title}\\nDesc: {description}\"\n",
    ")\n",
    "kw_chain = LLMChain(llm=llm, prompt=kw_prompt, output_key=\"keywords\")\n",
    "\n",
    "seq = SequentialChain(\n",
    "    chains=[title_chain, desc_chain, kw_chain],\n",
    "    input_variables=[\"topic\", \"audience\"],\n",
    "    output_variables=[\"title\", \"description\", \"keywords\"],\n",
    "    verbose=True\n",
    ")\n",
    "\n",
    "result = seq({\"topic\": \"LangChain Chains\", \"audience\": \"Python devs\"})\n",
    "print(result)\n"
   ]
  },
  {
   "cell_type": "markdown",
   "id": "fa752a87-9053-472f-a255-ccd933e0f686",
   "metadata": {},
   "source": [
    "### TransformChain — inject custom Python logic"
   ]
  },
  {
   "cell_type": "code",
   "execution_count": 9,
   "id": "b4a8337e-90cb-4f57-8f28-b8f38aec1fa6",
   "metadata": {},
   "outputs": [
    {
     "name": "stdout",
     "output_type": "stream",
     "text": [
      "\n",
      "\n",
      "\u001b[1m> Entering new SequentialChain chain...\u001b[0m\n",
      "\n",
      "\u001b[1m> Finished chain.\u001b[0m\n",
      "{'topic': 'LangChain Chains', 'audience': 'Beginners', 'title': '\"Getting Started with LangChain Chains: A Beginner\\'s Guide\"', 'slug': '\"getting-started-with-langchain-chains:-a-beginner\\'s-guide\"', 'description': \"Welcome to our beginner-friendly guide on LangChain Chains! In this video, we'll walk you through the fundamentals of LangChain, a powerful framework for building applications with language models. Whether you're new to programming or just starting with AI, this tutorial will help you understand the basics of creating and managing chains effectively. We'll cover key concepts, practical examples, and tips to get you up and running in no time. Join us on this exciting journey into the world of LangChain! Don’t forget to like, subscribe, and hit the notification bell for more tutorials! \\n\\n#LangChain #AI #ProgrammingForBeginners\", 'keywords': \"LangChain, LangChain tutorial, beginner's guide to LangChain, AI programming, language models, building applications with AI, LangChain chains, programming for beginners, AI frameworks, managing chains in LangChain, practical examples LangChain, getting started with AI\"}\n"
     ]
    }
   ],
   "source": [
    "from langchain.chains import TransformChain\n",
    "from typing import Dict\n",
    "\n",
    "def to_slug(inputs: Dict) -> Dict:\n",
    "    title = inputs[\"title\"]\n",
    "    slug = (\n",
    "        title.lower()\n",
    "        .replace(\"&\", \"and\")\n",
    "        .replace(\"—\", \"-\")\n",
    "        .replace(\" \", \"-\")\n",
    "    )\n",
    "    return {\"slug\": slug}\n",
    "\n",
    "slug_chain = TransformChain(\n",
    "    input_variables=[\"title\"],\n",
    "    output_variables=[\"slug\"],\n",
    "    transform=to_slug\n",
    ")\n",
    "\n",
    "full = SequentialChain(\n",
    "    chains=[title_chain, slug_chain, desc_chain, kw_chain],\n",
    "    input_variables=[\"topic\", \"audience\"],\n",
    "    output_variables=[\"title\", \"slug\", \"description\", \"keywords\"],\n",
    "    verbose=True\n",
    ")\n",
    "\n",
    "print(full({\"topic\": \"LangChain Chains\", \"audience\": \"Beginners\"}))\n"
   ]
  },
  {
   "cell_type": "markdown",
   "id": "3d4f6b52-cfdc-4301-94d7-56d54aee59e0",
   "metadata": {},
   "source": [
    "# LCEL (LangChain Expression Language)\n",
    "\n",
    "### Think of LCEL as LEGO pipes for AI.\n",
    "\n",
    "**Each block (prompt, model, tiny Python function, parser) has the same shape.**\n",
    "\n",
    "You snap blocks together with a simple pipe |.\n",
    "Then you run it the same way every time: invoke (one), batch (many), stream (piece by piece).\n",
    "\n",
    "### The Idea (in one minute)\n",
    "\n",
    "**Blocks:** Prompt → Model → (optional) Post-processor (parser)\n",
    "\n",
    "**Pipe:** Use | to connect blocks into a mini-pipeline.\n",
    "\n",
    "**Unified API:** No matter what you built, you call it with .invoke, .batch, or .stream."
   ]
  },
  {
   "cell_type": "code",
   "execution_count": 10,
   "id": "6efaaa0a-cead-44ce-9106-8bc3cc7d93b5",
   "metadata": {},
   "outputs": [
    {
     "name": "stdout",
     "output_type": "stream",
     "text": [
      "content='\"Unlocking LangChain: Essential Chains Every Python Developer Needs!\"' additional_kwargs={'refusal': None} response_metadata={'token_usage': {'completion_tokens': 13, 'prompt_tokens': 35, 'total_tokens': 48, 'completion_tokens_details': {'accepted_prediction_tokens': 0, 'audio_tokens': 0, 'reasoning_tokens': 0, 'rejected_prediction_tokens': 0}, 'prompt_tokens_details': {'audio_tokens': 0, 'cached_tokens': 0}}, 'model_name': 'gpt-4o-mini-2024-07-18', 'system_fingerprint': 'fp_560af6e559', 'id': 'chatcmpl-CBlqfuWbrm8HAq0WQb0gkUj588Esg', 'service_tier': 'default', 'finish_reason': 'stop', 'logprobs': None} id='run--b73287c8-f9ec-41fe-9666-24d3e482a864-0' usage_metadata={'input_tokens': 35, 'output_tokens': 13, 'total_tokens': 48, 'input_token_details': {'audio': 0, 'cache_read': 0}, 'output_token_details': {'audio': 0, 'reasoning': 0}}\n"
     ]
    }
   ],
   "source": [
    "chain = prompt | llm \n",
    "\n",
    "# one-off call (equivalent to .run)\n",
    "result = chain.invoke({\"topic\": \"LangChain Chains\", \"audience\": \"Python developers\"})\n",
    "print(result.content)"
   ]
  },
  {
   "cell_type": "markdown",
   "id": "7d408fc3-8733-4da0-86b3-78567ed29144",
   "metadata": {},
   "source": [
    "# Parallel chains "
   ]
  },
  {
   "attachments": {},
   "cell_type": "markdown",
   "id": "eb6511a4-79ff-4b72-bbeb-0bd6e3704d04",
   "metadata": {},
   "source": [
    "Idea: fan out the same input to several blocks concurrently and get a dict back.\n"
   ]
  },
  {
   "cell_type": "code",
   "execution_count": null,
   "id": "22845f48-4b90-4ea5-ad3c-17348e27f3bd",
   "metadata": {},
   "outputs": [],
   "source": []
  },
  {
   "cell_type": "code",
   "execution_count": 12,
   "id": "4f2c2e49-9fee-4890-b0aa-e8dfaa4e2aca",
   "metadata": {},
   "outputs": [
    {
     "name": "stdout",
     "output_type": "stream",
     "text": [
      "\"Unlocking LCEL Basics: Your Ultimate Guide to Mastering Language Learning!\"\n",
      "### Video Title: LCEL Basics\n",
      "\n",
      "#### Outline:\n",
      "\n",
      "1. **Introduction to LCEL**\n",
      "   - Definition of LCEL (Language and Content Integrated Learning)\n",
      "   - Importance and relevance in modern education\n",
      "   - Overview of the video content\n",
      "\n",
      "2. **Key Principles of LCEL**\n",
      "   - Integration of language learning with subject content\n",
      "   - Focus on communicative competence and critical thinking\n",
      "   - Emphasis on student-centered learning and engagement\n",
      "\n",
      "3. **Benefits of LCEL**\n",
      "   - Enhanced language proficiency through contextual learning\n",
      "   - Development of cognitive skills and content knowledge\n",
      "   - Preparation for real-world applications and multicultural understanding\n",
      "\n",
      "4. **Implementation Strategies**\n",
      "   - Effective teaching methods and approaches (e.g., project-based learning, collaborative tasks)\n",
      "   - Tips for educators on designing LCEL activities\n",
      "   - Resources and tools to support LCEL in the classroom\n",
      "\n",
      "5. **Conclusion and Next Steps**\n",
      "   - Recap of key points discussed\n",
      "   - Encouragement to explore LCEL further\n",
      "   - Call to action: subscribe for more educational content and share experiences with LCEL\n",
      "Sure! Here are 8 short hashtags for \"LCEL basics\":\n",
      "\n",
      "1. #LCEL\n",
      "2. #LCELBasics\n",
      "3. #LearnLCEL\n",
      "4. #LCEL101\n",
      "5. #LCELFundamentals\n",
      "6. #LCELGuide\n",
      "7. #LCELTips\n",
      "8. #LCELIntro\n"
     ]
    }
   ],
   "source": [
    "# pip install langchain langchain-openai\n",
    "from langchain_openai import ChatOpenAI\n",
    "from langchain_core.prompts import ChatPromptTemplate\n",
    "from langchain_core.output_parsers import StrOutputParser\n",
    "from langchain_core.runnables import RunnableParallel\n",
    "\n",
    "llm = ChatOpenAI(model=\"gpt-4o-mini\", temperature=0)\n",
    "\n",
    "# Blocks\n",
    "title_prompt = ChatPromptTemplate.from_template(\"Write a clicky YouTube title about: {topic}\")\n",
    "outline_prompt = ChatPromptTemplate.from_template(\"Create a 5-bullet outline for a video titled: {topic}\")\n",
    "hashtags_prompt = ChatPromptTemplate.from_template(\"Suggest 8 short hashtags for: {topic}\")\n",
    "\n",
    "title_chain = title_prompt | llm | StrOutputParser()\n",
    "outline_chain = outline_prompt | llm | StrOutputParser()\n",
    "hashtags_chain = hashtags_prompt | llm | StrOutputParser()\n",
    "\n",
    "# Parallel fan-out; returns {\"title\": ..., \"outline\": ..., \"hashtags\": ...}\n",
    "parallel = RunnableParallel(\n",
    "    title=title_chain,\n",
    "    outline=outline_chain,\n",
    "    hashtags=hashtags_chain,\n",
    ")\n",
    "\n",
    "res = parallel.invoke({\"topic\": \"LCEL basics\"})\n",
    "print(res[\"title\"])\n",
    "print(res[\"outline\"])\n",
    "print(res[\"hashtags\"])\n"
   ]
  },
  {
   "cell_type": "markdown",
   "id": "502dd2c5-2350-4e59-bd50-02264c28461f",
   "metadata": {},
   "source": [
    "# Conditional Chains"
   ]
  },
  {
   "cell_type": "code",
   "execution_count": 13,
   "id": "b7aa7c28-edac-4590-a1f7-96a2d0b95bab",
   "metadata": {},
   "outputs": [
    {
     "ename": "TypeError",
     "evalue": "RunnableBranch default must be Runnable, callable or mapping.",
     "output_type": "error",
     "traceback": [
      "\u001b[31m---------------------------------------------------------------------------\u001b[39m",
      "\u001b[31mTypeError\u001b[39m                                 Traceback (most recent call last)",
      "\u001b[36mCell\u001b[39m\u001b[36m \u001b[39m\u001b[32mIn[13]\u001b[39m\u001b[32m, line 17\u001b[39m\n\u001b[32m     14\u001b[39m \u001b[38;5;66;03m# Predicate functions receive the original input dict\u001b[39;00m\n\u001b[32m     15\u001b[39m is_short = \u001b[38;5;28;01mlambda\u001b[39;00m inp: \u001b[38;5;28mlen\u001b[39m(inp[\u001b[33m\"\u001b[39m\u001b[33mtext\u001b[39m\u001b[33m\"\u001b[39m].split()) < \u001b[32m60\u001b[39m\n\u001b[32m---> \u001b[39m\u001b[32m17\u001b[39m router = \u001b[43mRunnableBranch\u001b[49m\u001b[43m(\u001b[49m\n\u001b[32m     18\u001b[39m \u001b[43m    \u001b[49m\u001b[43m(\u001b[49m\u001b[43mis_short\u001b[49m\u001b[43m,\u001b[49m\u001b[43m \u001b[49m\u001b[43mparaphrase_chain\u001b[49m\u001b[43m)\u001b[49m\u001b[43m,\u001b[49m\u001b[43m          \u001b[49m\u001b[38;5;66;43;03m# if True → paraphrase\u001b[39;49;00m\n\u001b[32m     19\u001b[39m \u001b[43m    \u001b[49m\u001b[43m(\u001b[49m\u001b[38;5;28;43;01mlambda\u001b[39;49;00m\u001b[43m \u001b[49m\u001b[43m_\u001b[49m\u001b[43m:\u001b[49m\u001b[43m \u001b[49m\u001b[38;5;28;43;01mTrue\u001b[39;49;00m\u001b[43m,\u001b[49m\u001b[43m \u001b[49m\u001b[43msummary_chain\u001b[49m\u001b[43m)\u001b[49m\u001b[43m,\u001b[49m\u001b[43m       \u001b[49m\u001b[38;5;66;43;03m# default (else) → summary\u001b[39;49;00m\n\u001b[32m     20\u001b[39m \u001b[43m)\u001b[49m\n\u001b[32m     22\u001b[39m \u001b[38;5;66;03m# Try it\u001b[39;00m\n\u001b[32m     23\u001b[39m \u001b[38;5;28mprint\u001b[39m(router.invoke({\u001b[33m\"\u001b[39m\u001b[33mtext\u001b[39m\u001b[33m\"\u001b[39m: \u001b[33m\"\u001b[39m\u001b[33mLCEL is a simple pipe to connect prompts, models, and parsers.\u001b[39m\u001b[33m\"\u001b[39m}))\n",
      "\u001b[36mFile \u001b[39m\u001b[32m~/Library/Caches/pypoetry/virtualenvs/langchain-course-code-JFjVxRXc-py3.13/lib/python3.13/site-packages/langchain_core/runnables/branch.py:109\u001b[39m, in \u001b[36mRunnableBranch.__init__\u001b[39m\u001b[34m(self, *branches)\u001b[39m\n\u001b[32m    104\u001b[39m \u001b[38;5;28;01mif\u001b[39;00m \u001b[38;5;129;01mnot\u001b[39;00m \u001b[38;5;28misinstance\u001b[39m(\n\u001b[32m    105\u001b[39m     default,\n\u001b[32m    106\u001b[39m     (Runnable, Callable, Mapping),  \u001b[38;5;66;03m# type: ignore[arg-type]\u001b[39;00m\n\u001b[32m    107\u001b[39m ):\n\u001b[32m    108\u001b[39m     msg = \u001b[33m\"\u001b[39m\u001b[33mRunnableBranch default must be Runnable, callable or mapping.\u001b[39m\u001b[33m\"\u001b[39m\n\u001b[32m--> \u001b[39m\u001b[32m109\u001b[39m     \u001b[38;5;28;01mraise\u001b[39;00m \u001b[38;5;167;01mTypeError\u001b[39;00m(msg)\n\u001b[32m    111\u001b[39m default_ = cast(\n\u001b[32m    112\u001b[39m     \u001b[33m\"\u001b[39m\u001b[33mRunnable[Input, Output]\u001b[39m\u001b[33m\"\u001b[39m, coerce_to_runnable(cast(\u001b[33m\"\u001b[39m\u001b[33mRunnableLike\u001b[39m\u001b[33m\"\u001b[39m, default))\n\u001b[32m    113\u001b[39m )\n\u001b[32m    115\u001b[39m branches_ = []\n",
      "\u001b[31mTypeError\u001b[39m: RunnableBranch default must be Runnable, callable or mapping."
     ]
    }
   ],
   "source": [
    "from langchain_core.runnables import RunnableBranch\n",
    "from langchain_core.prompts import ChatPromptTemplate\n",
    "\n",
    "paraphrase_prompt = ChatPromptTemplate.from_template(\n",
    "    \"Paraphrase this in one snappy line:\\n\\n{text}\"\n",
    ")\n",
    "summarize_prompt = ChatPromptTemplate.from_template(\n",
    "    \"Summarize this into exactly 5 bullets:\\n\\n{text}\"\n",
    ")\n",
    "\n",
    "paraphrase_chain = paraphrase_prompt | llm | StrOutputParser()\n",
    "summary_chain = summarize_prompt | llm | StrOutputParser()\n",
    "\n",
    "# Predicate functions receive the original input dict\n",
    "is_short = lambda inp: len(inp[\"text\"].split()) < 60\n",
    "\n",
    "router = RunnableBranch(\n",
    "    (is_short, paraphrase_chain),          # if True → paraphrase\n",
    "    default=summary_chain       # default (else) → summary\n",
    ")\n",
    "\n",
    "# Try it\n",
    "print(router.invoke({\"text\": \"LCEL is a simple pipe to connect prompts, models, and parsers.\"}))\n",
    "print(router.invoke({\"text\": \"Longer passage ... (paste a few sentences here) ...\"}))\n"
   ]
  },
  {
   "cell_type": "code",
   "execution_count": null,
   "id": "0120f66f-5e61-4558-a9e0-b64f4c78c6b6",
   "metadata": {},
   "outputs": [],
   "source": []
  }
 ],
 "metadata": {
  "kernelspec": {
   "display_name": "Python 3 (ipykernel)",
   "language": "python",
   "name": "python3"
  },
  "language_info": {
   "codemirror_mode": {
    "name": "ipython",
    "version": 3
   },
   "file_extension": ".py",
   "mimetype": "text/x-python",
   "name": "python",
   "nbconvert_exporter": "python",
   "pygments_lexer": "ipython3",
   "version": "3.13.4"
  }
 },
 "nbformat": 4,
 "nbformat_minor": 5
}
