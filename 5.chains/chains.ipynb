{
 "cells": [
  {
   "cell_type": "markdown",
   "id": "4b2f2424-ba93-44ee-9cc9-d2207b5188da",
   "metadata": {},
   "source": [
    "# Chains"
   ]
  },
  {
   "cell_type": "markdown",
   "id": "8e825b39-e36b-452d-98c8-3b0bed36f442",
   "metadata": {},
   "source": [
    "### LLMChain — the foundation"
   ]
  },
  {
   "cell_type": "code",
   "execution_count": 20,
   "id": "063fe895-d3b9-411c-b230-09abfadff239",
   "metadata": {},
   "outputs": [],
   "source": [
    "from langchain_openai import ChatOpenAI\n",
    "from langchain.prompts import PromptTemplate\n",
    "from langchain.chains import LLMChain\n",
    "\n",
    "llm = ChatOpenAI(model=\"gpt-4o-mini\", temperature=0.2)\n",
    "\n",
    "prompt = PromptTemplate(\n",
    "    input_variables=[\"topic\", \"audience\"],\n",
    "    template=(\n",
    "        \"You are a helpful writing assistant.\\n\"\n",
    "        \"Write a catchy YouTube title about {topic} for {audience}. \"\n",
    "        \"Keep it under 75 characters.\"\n",
    "    )\n",
    ")\n",
    "\n"
   ]
  },
  {
   "cell_type": "markdown",
   "id": "94fadc47-cfde-45f1-be45-4f59278a045b",
   "metadata": {},
   "source": [
    "** get prompt -> call llm **\n"
   ]
  },
  {
   "cell_type": "code",
   "execution_count": 21,
   "id": "7ba28188-497f-48b9-bb5f-5034b1fd1877",
   "metadata": {},
   "outputs": [
    {
     "name": "stdout",
     "output_type": "stream",
     "text": [
      "prompt :  text='You are a helpful writing assistant.\\nWrite a catchy YouTube title about LangChain Chains for Python developers. Keep it under 75 characters.'\n",
      "Result :  \"Unlocking LangChain: Supercharge Your Python Development!\"\n"
     ]
    }
   ],
   "source": [
    "prompt_text = prompt.invoke({\"topic\": \"LangChain Chains\", \"audience\": \"Python developers\"})\n",
    "print(\"prompt : \" ,prompt_text)\n",
    "result = llm.invoke(prompt_text)\n",
    "print(\"Result : \", result.content)"
   ]
  },
  {
   "cell_type": "code",
   "execution_count": 22,
   "id": "5a6d1f76-c4e3-47ae-bd13-fe0596ed1164",
   "metadata": {},
   "outputs": [
    {
     "name": "stdout",
     "output_type": "stream",
     "text": [
      "\n",
      "\n",
      "\u001b[1m> Entering new LLMChain chain...\u001b[0m\n",
      "Prompt after formatting:\n",
      "\u001b[32;1m\u001b[1;3mYou are a helpful writing assistant.\n",
      "Write a catchy YouTube title about LangChain Chains for Python developers. Keep it under 75 characters.\u001b[0m\n",
      "\n",
      "\u001b[1m> Finished chain.\u001b[0m\n"
     ]
    },
    {
     "data": {
      "text/plain": [
       "'\"Unlocking LangChain: Essential Chains Every Python Developer Must Know!\"'"
      ]
     },
     "execution_count": 22,
     "metadata": {},
     "output_type": "execute_result"
    }
   ],
   "source": [
    "title_chain = LLMChain(llm=llm, prompt=prompt, verbose=True)\n",
    "title_chain.run(topic=\"LangChain Chains\", audience=\"Python developers\")"
   ]
  },
  {
   "cell_type": "markdown",
   "id": "e6ae6a72-6fd4-4f0e-9db7-0fa491a2d2d5",
   "metadata": {},
   "source": [
    "### SimpleSequentialChain — pass string forward"
   ]
  },
  {
   "cell_type": "code",
   "execution_count": 23,
   "id": "60f9e56b-cd91-4fc0-891a-48ead9b6db3c",
   "metadata": {},
   "outputs": [
    {
     "name": "stdout",
     "output_type": "stream",
     "text": [
      "\n",
      "\n",
      "\u001b[1m> Entering new SimpleSequentialChain chain...\u001b[0m\n",
      "\u001b[36;1m\u001b[1;3m\"Unlock the Power of LangChain: Build Smart Python Chains in Minutes!\"\u001b[0m\n",
      "\u001b[33;1m\u001b[1;3m🌟 **Unlock the Power of LangChain: Build Smart Python Chains in Minutes!** 🌟\n",
      "\n",
      "Welcome to our latest tutorial where we dive deep into the world of LangChain! 🚀 In this video, you'll learn how to harness the incredible capabilities of LangChain to create intelligent Python chains effortlessly. Whether you're a beginner or an experienced developer, this step-by-step guide will empower you to build smart applications in no time!\n",
      "\n",
      "🔍 **What You’ll Learn:**\n",
      "- What LangChain is and why it’s a game-changer for Python developers\n",
      "- How to set up your environment for LangChain development\n",
      "- Step-by-step instructions to create your first smart chain\n",
      "- Tips and tricks for optimizing your chains for performance\n",
      "- Real-world use cases and examples to inspire your projects\n",
      "\n",
      "💡 **Who Is This For?**\n",
      "- Python developers looking to enhance their skills\n",
      "- Data scientists wanting to streamline their workflows\n",
      "- Anyone interested in building intelligent applications with ease\n",
      "\n",
      "📚 **Resources:**\n",
      "- Code snippets and resources mentioned in the video can be found in the description below!\n",
      "- Join our community for more tips, tricks, and discussions on LangChain and Python development!\n",
      "\n",
      "👍 If you find this video helpful, please give it a thumbs up, subscribe for more content, and hit the notification bell to stay updated on our latest uploads!\n",
      "\n",
      "🔗 **Follow Us:**\n",
      "- Twitter: [YourTwitterHandle]\n",
      "- GitHub: [YourGitHubLink]\n",
      "- Discord: [YourDiscordLink]\n",
      "\n",
      "Let’s unlock the power of LangChain together! Happy coding! 💻✨\n",
      "\n",
      "#LangChain #Python #Programming #Tutorial #SmartChains #Coding #TechEducation\u001b[0m\n",
      "\n",
      "\u001b[1m> Finished chain.\u001b[0m\n",
      "🌟 **Unlock the Power of LangChain: Build Smart Python Chains in Minutes!** 🌟\n",
      "\n",
      "Welcome to our latest tutorial where we dive deep into the world of LangChain! 🚀 In this video, you'll learn how to harness the incredible capabilities of LangChain to create intelligent Python chains effortlessly. Whether you're a beginner or an experienced developer, this step-by-step guide will empower you to build smart applications in no time!\n",
      "\n",
      "🔍 **What You’ll Learn:**\n",
      "- What LangChain is and why it’s a game-changer for Python developers\n",
      "- How to set up your environment for LangChain development\n",
      "- Step-by-step instructions to create your first smart chain\n",
      "- Tips and tricks for optimizing your chains for performance\n",
      "- Real-world use cases and examples to inspire your projects\n",
      "\n",
      "💡 **Who Is This For?**\n",
      "- Python developers looking to enhance their skills\n",
      "- Data scientists wanting to streamline their workflows\n",
      "- Anyone interested in building intelligent applications with ease\n",
      "\n",
      "📚 **Resources:**\n",
      "- Code snippets and resources mentioned in the video can be found in the description below!\n",
      "- Join our community for more tips, tricks, and discussions on LangChain and Python development!\n",
      "\n",
      "👍 If you find this video helpful, please give it a thumbs up, subscribe for more content, and hit the notification bell to stay updated on our latest uploads!\n",
      "\n",
      "🔗 **Follow Us:**\n",
      "- Twitter: [YourTwitterHandle]\n",
      "- GitHub: [YourGitHubLink]\n",
      "- Discord: [YourDiscordLink]\n",
      "\n",
      "Let’s unlock the power of LangChain together! Happy coding! 💻✨\n",
      "\n",
      "#LangChain #Python #Programming #Tutorial #SmartChains #Coding #TechEducation\n"
     ]
    }
   ],
   "source": [
    "from langchain.chains import SimpleSequentialChain\n",
    "\n",
    "prompt1 = PromptTemplate.from_template(\n",
    "    \"Write a clicky YouTube title about: {topic}\"\n",
    ")\n",
    "chain1 = LLMChain(llm=llm, prompt=prompt1)\n",
    "\n",
    "prompt2 = PromptTemplate.from_template(\n",
    "    \"Write a youtube video description for :\\n{title}\"\n",
    ")\n",
    "chain2 = LLMChain(llm=llm, prompt=prompt2)\n",
    "\n",
    "pipeline = SimpleSequentialChain(chains=[chain1, chain2], verbose=True)\n",
    "\n",
    "outline = pipeline.run(\"LangChain Chains in Python\")\n",
    "print(outline)\n"
   ]
  },
  {
   "cell_type": "markdown",
   "id": "ae204efa-df8c-47d2-ba84-8907c0d0d4a5",
   "metadata": {},
   "source": [
    "### SequentialChain — named inputs & outputs"
   ]
  },
  {
   "cell_type": "code",
   "execution_count": 24,
   "id": "78bc6ac1-f5db-4d5b-b21d-fb1d57949f36",
   "metadata": {},
   "outputs": [
    {
     "name": "stdout",
     "output_type": "stream",
     "text": [
      "\n",
      "\n",
      "\u001b[1m> Entering new SequentialChain chain...\u001b[0m\n",
      "\n",
      "\u001b[1m> Finished chain.\u001b[0m\n",
      "{'topic': 'LangChain Chains', 'audience': 'Python devs', 'title': '\"Mastering LangChain: A Python Developer\\'s Guide to Building Intelligent Chains\"', 'description': \"Unlock the power of LangChain in your Python projects with our comprehensive guide! In this video, we’ll walk you through the essentials of building intelligent chains that enhance your applications. Whether you're a seasoned developer or just starting out, you'll learn how to leverage LangChain's capabilities to streamline workflows, integrate APIs, and create dynamic applications. Join us as we explore practical examples, best practices, and tips to elevate your coding skills. Don’t forget to like, subscribe, and hit the bell icon for more insights into Python development! \\n\\n#LangChain #PythonDevelopment #CodingTutorials\", 'keywords': 'LangChain, Python development, intelligent chains, API integration, coding tutorials, Python projects, workflow automation, dynamic applications, programming best practices, developer guide, coding skills, LangChain examples'}\n"
     ]
    }
   ],
   "source": [
    "from langchain.chains import SequentialChain\n",
    "\n",
    "title_prompt = PromptTemplate.from_template(\n",
    "    \"Generate a concise title about {topic} for {audience}.\"\n",
    ")\n",
    "title_chain = LLMChain(llm=llm, prompt=title_prompt, output_key=\"title\")\n",
    "\n",
    "desc_prompt = PromptTemplate.from_template(\n",
    "    \"Write a YouTube description (80–120 words) for the title:\\n{title}\\n\"\n",
    "    \"Audience: {audience}\\nInclude 3 hashtags.\"\n",
    ")\n",
    "desc_chain = LLMChain(llm=llm, prompt=desc_prompt, output_key=\"description\")\n",
    "\n",
    "kw_prompt = PromptTemplate.from_template(\n",
    "    \"Give 12 comma-separated SEO keywords for:\\nTitle: {title}\\nDesc: {description}\"\n",
    ")\n",
    "kw_chain = LLMChain(llm=llm, prompt=kw_prompt, output_key=\"keywords\")\n",
    "\n",
    "seq = SequentialChain(\n",
    "    chains=[title_chain, desc_chain, kw_chain],\n",
    "    input_variables=[\"topic\", \"audience\"],\n",
    "    output_variables=[\"title\", \"description\", \"keywords\"],\n",
    "    verbose=True\n",
    ")\n",
    "\n",
    "result = seq({\"topic\": \"LangChain Chains\", \"audience\": \"Python devs\"})\n",
    "print(result)\n"
   ]
  },
  {
   "cell_type": "markdown",
   "id": "fa752a87-9053-472f-a255-ccd933e0f686",
   "metadata": {},
   "source": [
    "### TransformChain — inject custom Python logic"
   ]
  },
  {
   "cell_type": "code",
   "execution_count": 9,
   "id": "b4a8337e-90cb-4f57-8f28-b8f38aec1fa6",
   "metadata": {},
   "outputs": [
    {
     "name": "stdout",
     "output_type": "stream",
     "text": [
      "\n",
      "\n",
      "\u001b[1m> Entering new SequentialChain chain...\u001b[0m\n",
      "\n",
      "\u001b[1m> Finished chain.\u001b[0m\n",
      "{'topic': 'LangChain Chains', 'audience': 'Beginners', 'title': '\"Getting Started with LangChain Chains: A Beginner\\'s Guide\"', 'slug': '\"getting-started-with-langchain-chains:-a-beginner\\'s-guide\"', 'description': \"Welcome to our beginner-friendly guide on LangChain Chains! In this video, we'll walk you through the fundamentals of LangChain, a powerful framework for building applications with language models. Whether you're new to programming or just starting with AI, this tutorial will help you understand the basics of creating and managing chains effectively. We'll cover key concepts, practical examples, and tips to get you up and running in no time. Join us on this exciting journey into the world of LangChain! Don’t forget to like, subscribe, and hit the notification bell for more tutorials! \\n\\n#LangChain #AI #ProgrammingForBeginners\", 'keywords': \"LangChain, LangChain tutorial, beginner's guide to LangChain, AI programming, language models, building applications with AI, LangChain chains, programming for beginners, AI frameworks, managing chains in LangChain, practical examples LangChain, getting started with AI\"}\n"
     ]
    }
   ],
   "source": [
    "from langchain.chains import TransformChain\n",
    "from typing import Dict\n",
    "\n",
    "def to_slug(inputs: Dict) -> Dict:\n",
    "    title = inputs[\"title\"]\n",
    "    slug = (\n",
    "        title.lower()\n",
    "        .replace(\"&\", \"and\")\n",
    "        .replace(\"—\", \"-\")\n",
    "        .replace(\" \", \"-\")\n",
    "    )\n",
    "    return {\"slug\": slug}\n",
    "\n",
    "slug_chain = TransformChain(\n",
    "    input_variables=[\"title\"],\n",
    "    output_variables=[\"slug\"],\n",
    "    transform=to_slug\n",
    ")\n",
    "\n",
    "full = SequentialChain(\n",
    "    chains=[title_chain, slug_chain, desc_chain, kw_chain],\n",
    "    input_variables=[\"topic\", \"audience\"],\n",
    "    output_variables=[\"title\", \"slug\", \"description\", \"keywords\"],\n",
    "    verbose=True\n",
    ")\n",
    "\n",
    "print(full({\"topic\": \"LangChain Chains\", \"audience\": \"Beginners\"}))\n"
   ]
  },
  {
   "cell_type": "markdown",
   "id": "3d4f6b52-cfdc-4301-94d7-56d54aee59e0",
   "metadata": {},
   "source": [
    "# LCEL (LangChain Expression Language)\n",
    "\n",
    "### Think of LCEL as LEGO pipes for AI.\n",
    "\n",
    "**Each block (prompt, model, tiny Python function, parser) has the same shape.**\n",
    "\n",
    "You snap blocks together with a simple pipe |.\n",
    "Then you run it the same way every time: invoke (one), batch (many), stream (piece by piece).\n",
    "\n",
    "### The Idea (in one minute)\n",
    "\n",
    "**Blocks:** Prompt → Model → (optional) Post-processor (parser)\n",
    "\n",
    "**Pipe:** Use | to connect blocks into a mini-pipeline.\n",
    "\n",
    "**Unified API:** No matter what you built, you call it with .invoke, .batch, or .stream."
   ]
  },
  {
   "cell_type": "code",
   "execution_count": 10,
   "id": "6efaaa0a-cead-44ce-9106-8bc3cc7d93b5",
   "metadata": {},
   "outputs": [
    {
     "name": "stdout",
     "output_type": "stream",
     "text": [
      "content='\"Unlocking LangChain: Essential Chains Every Python Developer Needs!\"' additional_kwargs={'refusal': None} response_metadata={'token_usage': {'completion_tokens': 13, 'prompt_tokens': 35, 'total_tokens': 48, 'completion_tokens_details': {'accepted_prediction_tokens': 0, 'audio_tokens': 0, 'reasoning_tokens': 0, 'rejected_prediction_tokens': 0}, 'prompt_tokens_details': {'audio_tokens': 0, 'cached_tokens': 0}}, 'model_name': 'gpt-4o-mini-2024-07-18', 'system_fingerprint': 'fp_560af6e559', 'id': 'chatcmpl-CBlqfuWbrm8HAq0WQb0gkUj588Esg', 'service_tier': 'default', 'finish_reason': 'stop', 'logprobs': None} id='run--b73287c8-f9ec-41fe-9666-24d3e482a864-0' usage_metadata={'input_tokens': 35, 'output_tokens': 13, 'total_tokens': 48, 'input_token_details': {'audio': 0, 'cache_read': 0}, 'output_token_details': {'audio': 0, 'reasoning': 0}}\n"
     ]
    }
   ],
   "source": [
    "chain = prompt | llm \n",
    "\n",
    "# one-off call (equivalent to .run)\n",
    "result = chain.invoke({\"topic\": \"LangChain Chains\", \"audience\": \"Python developers\"})\n",
    "print(result.content)"
   ]
  },
  {
   "cell_type": "markdown",
   "id": "7d408fc3-8733-4da0-86b3-78567ed29144",
   "metadata": {},
   "source": [
    "# Parallel chains "
   ]
  },
  {
   "attachments": {},
   "cell_type": "markdown",
   "id": "eb6511a4-79ff-4b72-bbeb-0bd6e3704d04",
   "metadata": {},
   "source": [
    "Idea: fan out the same input to several blocks concurrently and get a dict back.\n"
   ]
  },
  {
   "cell_type": "code",
   "execution_count": null,
   "id": "22845f48-4b90-4ea5-ad3c-17348e27f3bd",
   "metadata": {},
   "outputs": [],
   "source": []
  },
  {
   "cell_type": "code",
   "execution_count": 12,
   "id": "4f2c2e49-9fee-4890-b0aa-e8dfaa4e2aca",
   "metadata": {},
   "outputs": [
    {
     "name": "stdout",
     "output_type": "stream",
     "text": [
      "\"Unlocking LCEL Basics: Your Ultimate Guide to Mastering Language Learning!\"\n",
      "### Video Title: LCEL Basics\n",
      "\n",
      "#### Outline:\n",
      "\n",
      "1. **Introduction to LCEL**\n",
      "   - Definition of LCEL (Language and Content Integrated Learning)\n",
      "   - Importance and relevance in modern education\n",
      "   - Overview of the video content\n",
      "\n",
      "2. **Key Principles of LCEL**\n",
      "   - Integration of language learning with subject content\n",
      "   - Focus on communicative competence and critical thinking\n",
      "   - Emphasis on student-centered learning and engagement\n",
      "\n",
      "3. **Benefits of LCEL**\n",
      "   - Enhanced language proficiency through contextual learning\n",
      "   - Development of cognitive skills and content knowledge\n",
      "   - Preparation for real-world applications and multicultural understanding\n",
      "\n",
      "4. **Implementation Strategies**\n",
      "   - Effective teaching methods and approaches (e.g., project-based learning, collaborative tasks)\n",
      "   - Tips for educators on designing LCEL activities\n",
      "   - Resources and tools to support LCEL in the classroom\n",
      "\n",
      "5. **Conclusion and Next Steps**\n",
      "   - Recap of key points discussed\n",
      "   - Encouragement to explore LCEL further\n",
      "   - Call to action: subscribe for more educational content and share experiences with LCEL\n",
      "Sure! Here are 8 short hashtags for \"LCEL basics\":\n",
      "\n",
      "1. #LCEL\n",
      "2. #LCELBasics\n",
      "3. #LearnLCEL\n",
      "4. #LCEL101\n",
      "5. #LCELFundamentals\n",
      "6. #LCELGuide\n",
      "7. #LCELTips\n",
      "8. #LCELIntro\n"
     ]
    }
   ],
   "source": [
    "# pip install langchain langchain-openai\n",
    "from langchain_openai import ChatOpenAI\n",
    "from langchain_core.prompts import ChatPromptTemplate\n",
    "from langchain_core.output_parsers import StrOutputParser\n",
    "from langchain_core.runnables import RunnableParallel\n",
    "\n",
    "llm = ChatOpenAI(model=\"gpt-4o-mini\", temperature=0)\n",
    "\n",
    "# Blocks\n",
    "title_prompt = ChatPromptTemplate.from_template(\"Write a clicky YouTube title about: {topic}\")\n",
    "outline_prompt = ChatPromptTemplate.from_template(\"Create a 5-bullet outline for a video titled: {topic}\")\n",
    "hashtags_prompt = ChatPromptTemplate.from_template(\"Suggest 8 short hashtags for: {topic}\")\n",
    "\n",
    "title_chain = title_prompt | llm | StrOutputParser()\n",
    "outline_chain = outline_prompt | llm | StrOutputParser()\n",
    "hashtags_chain = hashtags_prompt | llm | StrOutputParser()\n",
    "\n",
    "# Parallel fan-out; returns {\"title\": ..., \"outline\": ..., \"hashtags\": ...}\n",
    "parallel = RunnableParallel(\n",
    "    title=title_chain,\n",
    "    outline=outline_chain,\n",
    "    hashtags=hashtags_chain,\n",
    ")\n",
    "\n",
    "res = parallel.invoke({\"topic\": \"LCEL basics\"})\n",
    "print(res[\"title\"])\n",
    "print(res[\"outline\"])\n",
    "print(res[\"hashtags\"])\n"
   ]
  },
  {
   "cell_type": "markdown",
   "id": "502dd2c5-2350-4e59-bd50-02264c28461f",
   "metadata": {},
   "source": [
    "# Conditional Chains"
   ]
  },
  {
   "cell_type": "code",
   "execution_count": 25,
   "id": "b7aa7c28-edac-4590-a1f7-96a2d0b95bab",
   "metadata": {},
   "outputs": [
    {
     "name": "stdout",
     "output_type": "stream",
     "text": [
      "LCEL seamlessly links prompts, models, and parsers.\n"
     ]
    }
   ],
   "source": [
    "from langchain_core.runnables import RunnableBranch\n",
    "from langchain_core.output_parsers import StrOutputParser\n",
    "from langchain_core.prompts import ChatPromptTemplate\n",
    "from langchain_openai import ChatOpenAI\n",
    "\n",
    "llm = ChatOpenAI(model=\"gpt-4o-mini\", temperature=0)\n",
    "\n",
    "paraphrase_prompt = ChatPromptTemplate.from_template(\n",
    "    \"Paraphrase this in one snappy line:\\n\\n{text}\"\n",
    ")\n",
    "summary_prompt = ChatPromptTemplate.from_template(\n",
    "    \"Summarize this into exactly 5 bullets:\\n\\n{text}\"\n",
    ")\n",
    "\n",
    "paraphrase_chain = paraphrase_prompt | llm | StrOutputParser()\n",
    "summary_chain   = summary_prompt   | llm | StrOutputParser()\n",
    "\n",
    "is_short = lambda inp: len(inp[\"text\"].split()) < 60\n",
    "\n",
    "router = RunnableBranch(\n",
    "    (is_short, paraphrase_chain),# if True → paraphrase\n",
    "    summary_chain           # else → summary?\n",
    ")\n",
    "\n",
    "print(router.invoke({\"text\": \"LCEL is a simple pipe to connect prompts, models, and parsers.\"}))\n"
   ]
  },
  {
   "cell_type": "code",
   "execution_count": 26,
   "id": "0120f66f-5e61-4558-a9e0-b64f4c78c6b6",
   "metadata": {},
   "outputs": [
    {
     "name": "stdout",
     "output_type": "stream",
     "text": [
      "- Condition chaining with LCEL’s RunnableBranch routes input through a single path based on defined rules using ordered predicate→chain pairs.\n",
      "- At runtime, predicates are tested in order, with the first True result determining which subchain runs, minimizing wasted tokens.\n",
      "- A fallback branch handles any unmatched conditions, with API variations allowing it to be passed as the last positional argument or as a default.\n",
      "- Use cases include handling short vs. long inputs, language detection, and checks for pre-structured data.\n",
      "- For reliability, ensure predicates are fast and deterministic, and maintain consistent output types across branches; condition chains integrate with invoke, batch, and stream methods.\n"
     ]
    }
   ],
   "source": [
    "# print(router.invoke({\"text\": \"LCEL is a simple pipe to connect prompts, models, and parsers.\"}))\n",
    "print(router.invoke({\"text\": \"Condition chaining (e.g., with LCEL’s RunnableBranch) lets you route an input through exactly one path based on rules you define. You provide ordered predicate→chain pairs; at runtime the predicates are tested top-to-bottom, the first True wins, and only that subchain runs (no wasted tokens). A final fallback branch handles everything else (API detail: some versions pass it as the last positional arg, newer ones allow default=). Use it for things like short-vs-long handling, language detection, or “already structured?” checks. For reliability, keep predicates fast and deterministic, and make all branches return the same output type so downstream steps don’t break. Condition chains work with the same unified methods—invoke (one), batch (many), and stream (piecewise)—and you can tag/trace them like any other runnable.\"}))"
   ]
  },
  {
   "cell_type": "code",
   "execution_count": 18,
   "id": "24b0dbbd-8140-41b2-994b-8e9c011aedd8",
   "metadata": {},
   "outputs": [
    {
     "name": "stdout",
     "output_type": "stream",
     "text": [
      "- Condition chaining with LCEL’s RunnableBranch allows routing of input through a single defined path based on custom rules.\n",
      "- Users provide ordered predicate→chain pairs, with the first True predicate determining which subchain runs, minimizing wasted tokens.\n",
      "- A fallback branch is available for handling unmatched conditions, with API variations for its implementation.\n",
      "- Ideal use cases include short-vs-long handling, language detection, and checks for pre-structured data.\n",
      "- For reliability, ensure predicates are fast and deterministic, and maintain consistent output types across branches to avoid downstream issues.\n"
     ]
    }
   ],
   "source": []
  },
  {
   "cell_type": "code",
   "execution_count": null,
   "id": "ad4d3185-224d-4e62-81d3-b66473d6b4fe",
   "metadata": {},
   "outputs": [],
   "source": []
  }
 ],
 "metadata": {
  "kernelspec": {
   "display_name": "Python 3 (ipykernel)",
   "language": "python",
   "name": "python3"
  },
  "language_info": {
   "codemirror_mode": {
    "name": "ipython",
    "version": 3
   },
   "file_extension": ".py",
   "mimetype": "text/x-python",
   "name": "python",
   "nbconvert_exporter": "python",
   "pygments_lexer": "ipython3",
   "version": "3.13.4"
  }
 },
 "nbformat": 4,
 "nbformat_minor": 5
}
