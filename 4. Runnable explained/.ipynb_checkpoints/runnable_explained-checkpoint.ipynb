{
 "cells": [
  {
   "cell_type": "markdown",
   "id": "eb1cd2c9-4cc1-4400-b775-7daeb708beab",
   "metadata": {},
   "source": [
    "# Runnable \n",
    "\n",
    "\n",
    "LangChain’s most important idea isn’t a specific model—it’s the **Runnable**.\n",
    "\n",
    "**Concept**: a standard **“unit of work”** with the contract **input → output**  \n",
    "\n",
    "## common methods:\n",
    "\n",
    ".invoke, .batch, .stream/.astream, .astream_events.\n",
    " Why it exists: so prompts, models, retrievers, and parsers can all be called the same way, making them easy to swap, test, and compose.\n"
   ]
  },
  {
   "cell_type": "markdown",
   "id": "85713936-8bc5-4c43-865b-cbb0f643a224",
   "metadata": {},
   "source": [
    "Runnable[Input, Output] is a generic abstract/base in langchain_core.runnables. \n",
    "You usually don’t subclass it directly—use helpers like RunnableLambda, \n",
    "or just use existing runnables (ChatPromptTemplate, ChatOpenAI, parsers)."
   ]
  },
  {
   "cell_type": "markdown",
   "id": "d69d8a7d-5804-4d87-8a11-7e2e06bd42c9",
   "metadata": {},
   "source": [
    "## Mental “type” picture\n",
    "\n",
    "ChatPromptTemplate: Runnable[dict, list[BaseMessage]]\n",
    "\n",
    "ChatOpenAI: Runnable[list[BaseMessage], AIMessage]\n",
    "\n",
    "JsonOutputParser[T]: Runnable[str, T]"
   ]
  },
  {
   "cell_type": "markdown",
   "id": "208da745-65a9-49c8-86c2-a03e06c4f8df",
   "metadata": {},
   "source": [
    "### invoke method"
   ]
  },
  {
   "cell_type": "code",
   "execution_count": 2,
   "id": "f852d915-5525-4211-ab97-78dbe30ff3de",
   "metadata": {},
   "outputs": [
    {
     "name": "stdout",
     "output_type": "stream",
     "text": [
      "The capital of the United Kingdom, which is made up of England, Scotland, Wales, and Northern Ireland, is London. It’s a big city filled with lots of history, tall buildings, and beautiful parks. London is famous for landmarks like the Tower of London, Buckingham Palace, and the big red buses. It's also a place where millions of people from all over the world come to live, work, and visit. A fun fact about London is that it has more than 300 kinds of birds, so you might see something amazing like a parakeet flying around in the parks!\n"
     ]
    }
   ],
   "source": [
    "from langchain_openai.chat_models import ChatOpenAI\n",
    "model = ChatOpenAI(model=\"gpt-4o-mini\")\n",
    "response = model.invoke(\"What is capital of UK?  Give me answer in one paragraph, and give like you are teaching to 5 grade students. add one fun fact in the  end\")\n",
    "\n",
    "print(response.content)"
   ]
  },
  {
   "cell_type": "markdown",
   "id": "0f2fad15-2ef8-4edc-ba7a-ce03dca70054",
   "metadata": {},
   "source": [
    "### batch method"
   ]
  },
  {
   "cell_type": "code",
   "execution_count": 6,
   "id": "a43dd0e2-0dbb-4d2a-8275-b30fa8165ca8",
   "metadata": {},
   "outputs": [
    {
     "name": "stdout",
     "output_type": "stream",
     "text": [
      "- The capital of China is Beijing.\n",
      "- The capital of Spain is Madrid.\n"
     ]
    }
   ],
   "source": [
    "inputs = [\n",
    "    \"What is capital of China\",\n",
    "    \"What is capital of spain\"\n",
    "]\n",
    "responses = model.batch(inputs)\n",
    "for resp in responses:\n",
    "    print(\"-\", resp.content)"
   ]
  },
  {
   "cell_type": "markdown",
   "id": "00fe63f1-4243-4e2f-9ce8-fd6094e74aae",
   "metadata": {},
   "source": [
    "### Stream Method"
   ]
  },
  {
   "cell_type": "code",
   "execution_count": 10,
   "id": "c18f3ff3-6c05-486e-b456-2ed822fb3991",
   "metadata": {},
   "outputs": [
    {
     "name": "stdout",
     "output_type": "stream",
     "text": [
      "The capital of the United Kingdom is London! London is a big and exciting city located in England, and it is famous for many things, like the Tower of London, Big Ben, and Buckingham Palace, where the queen lives. It's also a place where people from all around the world come to visit and learn about its rich history and culture. Did you know that London has a famous red double-decker bus that you can ride to see the sights? They are not just for transportation, but they are also a fun way to explore the city!\n",
      "-- end stream --\n"
     ]
    }
   ],
   "source": [
    "stream_response = model.stream(\"What is capital of UK?  Give me answer in two paragraph, and give like you are teaching to 5 grade students. add one fun fact in the  end\")\n",
    "\n",
    "for chunk in stream_response:\n",
    "    # chunk is a ChatGenerationChunk\n",
    "    print(chunk.content, end=\"\")\n",
    "print(\"\\n-- end stream --\")"
   ]
  },
  {
   "cell_type": "markdown",
   "id": "b89d9e55-ed65-4c19-b934-a3081f304756",
   "metadata": {},
   "source": [
    "# Custom Runnable"
   ]
  },
  {
   "cell_type": "code",
   "execution_count": 4,
   "id": "2228bd76-c164-4e9c-b7e0-808579d099f3",
   "metadata": {},
   "outputs": [
    {
     "name": "stdout",
     "output_type": "stream",
     "text": [
      "HELLO\n"
     ]
    }
   ],
   "source": [
    "from langchain_core.runnables import RunnableLambda\n",
    "to_upper = RunnableLambda(lambda s: s.upper())\n",
    "print(to_upper.invoke(\"hello\")) "
   ]
  },
  {
   "cell_type": "code",
   "execution_count": null,
   "id": "17e49afb-3264-431b-98d3-008a5bd5efff",
   "metadata": {},
   "outputs": [],
   "source": [
    "# poetry add install  pydantic\n",
    "from langchain_core.runnables import RunnableLambda\n",
    "from langchain_openai import ChatOpenAI\n",
    "from langchain_core.prompts import ChatPromptTemplate\n",
    "import json, datetime, asyncio\n",
    "\n",
    "# 1) String preprocessor (trim + collapse spaces)\n",
    "clean_text = RunnableLambda(lambda s: \" \".join(s.strip().split()))\n",
    "print(clean_text.invoke(\"  Hello   LangChain \\n RunnableLambda  \"))   # \"Hello LangChain RunnableLambda\"\n",
    "print(clean_text.batch([\"  a  \", \" b\\nc \"]))                          # ['a', 'b c']\n",
    "\n",
    "# 2) Dict enricher (add defaults)\n",
    "add_defaults = RunnableLambda(lambda d: {**d, \"tone\": d.get(\"tone\", \"friendly\")})\n",
    "print(add_defaults.invoke({\"topic\": \"embeddings\"}))\n",
    "# {'topic': 'embeddings', 'tone': 'friendly'}\n",
    "\n",
    "# 3) Simple JSON parser (raises on invalid JSON) + retry wrapper\n",
    "parse_json = RunnableLambda(lambda s: json.loads(s))\n",
    "robust_parse = parse_json.with_retry()   # retries on exceptions\n",
    "print(robust_parse.invoke('{\"ok\":true}'))  # {'ok': True}\n",
    "\n",
    "# 4) Async variant (add UTC timestamp)\n",
    "async def add_ts_async(d):\n",
    "    return {**d, \"ts\": datetime.datetime.utcnow().isoformat() + \"Z\"}\n",
    "\n",
    "add_ts = RunnableLambda(func=lambda d: {**d, \"ts\": \"sync\"}, afunc=add_ts_async)\n",
    "print(asyncio.run(add_ts.ainvoke({\"topic\": \"runnable\"})))\n",
    "# {'topic': 'runnable', 'ts': '2025-08-27T10:11:12.345678Z'}\n",
    "\n",
    "# 5) Use RunnableLambda as a tiny pre-processor before a prompt/model call (no LCEL pipes)\n",
    "prompt = ChatPromptTemplate.from_messages([\n",
    "    (\"system\", \"Be concise.\"),\n",
    "    (\"human\", \"Explain {topic} in one sentence for a {tone} audience.\")\n",
    "])\n",
    "llm = ChatOpenAI(model=\"gpt-4o-mini\", temperature=0)\n",
    "\n",
    "# Prepare inputs → clean/enrich → build messages → invoke model\n",
    "user_input = {\"topic\": \"vector search\"}\n",
    "prepped = add_defaults.invoke(user_input)               # adds tone\n",
    "messages = prompt.invoke(prepped)                       # prompt is a Runnable\n",
    "reply = llm.invoke(messages)                            # model is a Runnable\n",
    "print(reply.content)\n"
   ]
  },
  {
   "cell_type": "code",
   "execution_count": null,
   "id": "eb34b4db-e2a5-47b6-82f8-4aaa062ec22d",
   "metadata": {},
   "outputs": [],
   "source": []
  }
 ],
 "metadata": {
  "kernelspec": {
   "display_name": "Python 3 (ipykernel)",
   "language": "python",
   "name": "python3"
  },
  "language_info": {
   "codemirror_mode": {
    "name": "ipython",
    "version": 3
   },
   "file_extension": ".py",
   "mimetype": "text/x-python",
   "name": "python",
   "nbconvert_exporter": "python",
   "pygments_lexer": "ipython3",
   "version": "3.13.4"
  }
 },
 "nbformat": 4,
 "nbformat_minor": 5
}
