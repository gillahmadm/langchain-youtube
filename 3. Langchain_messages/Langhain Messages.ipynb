{
 "cells": [
  {
   "cell_type": "code",
   "execution_count": 1,
   "id": "df0de9a5-43df-4dbf-a78a-3971f55faa5b",
   "metadata": {},
   "outputs": [],
   "source": [
    "# Messages in Langchain or Chat Systems, Types and use"
   ]
  },
  {
   "cell_type": "code",
   "execution_count": null,
   "id": "e2737ea0-b6aa-4c1d-8e73-b8ff4215c9ad",
   "metadata": {},
   "outputs": [],
   "source": [
    "# A prompt is the input you give an AI model to guide its output—your instructions plus any context, constraints, or examples (e.g., tone, audience, format). \n",
    "    \n",
    "# In chat systems, a prompt can be a list of role-tagged messages; in simple cases, it’s just a well-worded instruction.\n",
    "\n",
    "# Example prompt:\n",
    "# “Act as a concise tutor. In one paragraph, explain what an API is to a beginner, \n",
    "\n",
    "# then give a 3-point checklist for choosing an API. Output in Markdown with a heading and bullet points.”"
   ]
  },
  {
   "cell_type": "code",
   "execution_count": 13,
   "id": "e3538cd5-cf6f-4046-b533-3c1c5ea8eb01",
   "metadata": {},
   "outputs": [
    {
     "name": "stdout",
     "output_type": "stream",
     "text": [
      "The capital of the United Kingdom is London! London is a very big and busy city located in England, which is one of the countries in the UK. It is known for its iconic landmarks like Big Ben, the Tower of London, and Buckingham Palace, where the Queen used to live. London is also famous for its culture, museums, and parks. It's a place where people from all over the world come to visit and learn. Fun fact: Did you know that London has a subway system called \"the Tube,\" which is one of the oldest underground railway systems in the world? It's a super cool way to get around the city!\n"
     ]
    }
   ],
   "source": [
    "from langchain_openai.chat_models import ChatOpenAI\n",
    "model = ChatOpenAI(model=\"gpt-4o-mini\")\n",
    "response = model.invoke(\"What is capital of UK?  Give me answer in one paragraph, and give like you are teaching to 5 grade students. add one fun fact in the  end\")\n",
    "\n",
    "print(response.content)"
   ]
  },
  {
   "cell_type": "code",
   "execution_count": 14,
   "id": "65384843-2a7f-43f0-833b-7494be54e814",
   "metadata": {},
   "outputs": [
    {
     "name": "stdout",
     "output_type": "stream",
     "text": [
      "Could you please specify the location you are asking about?\n"
     ]
    }
   ],
   "source": [
    "response = model.invoke(\"How many people live there?\")\n",
    "\n",
    "print(response.content)"
   ]
  },
  {
   "cell_type": "code",
   "execution_count": 4,
   "id": "cb54e40d-7077-4f1d-aa64-526a8f8cabca",
   "metadata": {},
   "outputs": [],
   "source": [
    "# Chat system, Keep the context, Make AI well aware of context."
   ]
  },
  {
   "cell_type": "code",
   "execution_count": 6,
   "id": "70eb9e60-70c7-4be0-8135-0bd8f584f8cc",
   "metadata": {},
   "outputs": [],
   "source": [
    "# Type of Messages\n",
    "\n",
    "# Instead of a single prompt string, chat models make use of different types of chat message interfaces associated with each role mentioned previously. These include the following:\n",
    "\n",
    "# HumanMessage\n",
    "# A message sent from the perspective of the human, with the user role\n",
    "\n",
    "# AIMessage\n",
    "# A message sent from the perspective of the AI that the human is interacting with, with the assistant role\n",
    "\n",
    "# SystemMessage\n",
    "# A message setting the instructions the AI should follow, with the system role\n",
    "\n",
    "# ChatMessage\n",
    "# A message allowing for arbitrary setting of role"
   ]
  },
  {
   "cell_type": "code",
   "execution_count": 16,
   "id": "9db48c02-7df6-4988-8c18-710974c421f6",
   "metadata": {},
   "outputs": [
    {
     "name": "stdout",
     "output_type": "stream",
     "text": [
      "AI: The capital of the United Kingdom (UK) is London! It's a really big city where you'll find famous places like Big Ben and the Tower of London. London is also known for its history, culture, and diverse population. If you ever visit, you can see the British royalty at Buckingham Palace! Fun fact: London has a special underground train system called the Tube, and it's one of the oldest in the world, opened in 1863!\n"
     ]
    }
   ],
   "source": [
    "from langchain_openai import ChatOpenAI\n",
    "from langchain_core.messages import HumanMessage, AIMessage, SystemMessage, ChatMessage\n",
    "\n",
    "\n",
    "model = ChatOpenAI(model=\"gpt-4o-mini\")\n",
    "\n",
    "# 2) Build a message list (this is your chat state)\n",
    "messages = [\n",
    "    SystemMessage(content=\"You are a concise, friendly Techer. You will give answer in one paragraph, and give like you are teaching to 5 grade students. Always add one fun fact in the end.\"),\n",
    "    HumanMessage(content=\"What is capital of UK? \"),\n",
    "]\n",
    "\n",
    "response = model.invoke(messages)\n",
    "print(\"AI:\", response.content)\n"
   ]
  },
  {
   "cell_type": "code",
   "execution_count": 17,
   "id": "0c7ac408-128a-4f65-9826-95b854e4a36b",
   "metadata": {},
   "outputs": [
    {
     "name": "stdout",
     "output_type": "stream",
     "text": [
      "AI: As of my last knowledge update, about 9 million people live in London! It's one of the largest cities in Europe and a very busy place where people from all over the world come to live, work, and visit. With so many people, there are lots of different cultures, languages, and delicious foods to try! Fun fact: London has over 300 languages spoken, making it one of the most linguistically diverse cities in the world!\n"
     ]
    }
   ],
   "source": [
    "# 4) Keep the conversation going: append AI reply + new human turn\n",
    "messages.append(AIMessage(content=response.content))\n",
    "messages.append(HumanMessage(content=\"How many people live there?\"))\n",
    "\n",
    "response2 = model.invoke(messages)\n",
    "print(\"AI:\", response2.content)"
   ]
  },
  {
   "cell_type": "code",
   "execution_count": 18,
   "id": "94b8b2a4-6cf9-481c-bbc8-a172329cf47d",
   "metadata": {},
   "outputs": [
    {
     "name": "stdout",
     "output_type": "stream",
     "text": [
      "Review: - London has a population of about 9 million people, making it one of the largest and most diverse cities in Europe, with over 300 languages spoken!\n"
     ]
    }
   ],
   "source": [
    "\n",
    "messages.append(AIMessage(content=response2.content))\n",
    "messages.append(ChatMessage(role=\"user\", content=\"Review the last answer for clarity in 1 bullet.\"))\n",
    "response3 = model.invoke(messages)\n",
    "print(\"Review:\", response3.content)"
   ]
  },
  {
   "cell_type": "code",
   "execution_count": null,
   "id": "c5399b77-cdf7-4aa9-a9c2-ee4b9f993909",
   "metadata": {},
   "outputs": [],
   "source": [
    "# SystemMessage → “instructions/policy/persona”\n",
    "\n",
    "# HumanMessage → “user request”\n",
    "\n",
    "# AIMessage → “assistant reply (store history)”\n",
    "\n",
    "# ChatMessage(role=…) → “custom roles: critic, planner, tool, dev, …”"
   ]
  }
 ],
 "metadata": {
  "kernelspec": {
   "display_name": "Python 3 (ipykernel)",
   "language": "python",
   "name": "python3"
  },
  "language_info": {
   "codemirror_mode": {
    "name": "ipython",
    "version": 3
   },
   "file_extension": ".py",
   "mimetype": "text/x-python",
   "name": "python",
   "nbconvert_exporter": "python",
   "pygments_lexer": "ipython3",
   "version": "3.13.4"
  }
 },
 "nbformat": 4,
 "nbformat_minor": 5
}
