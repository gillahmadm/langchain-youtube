{
 "cells": [
  {
   "cell_type": "code",
   "execution_count": 3,
   "id": "f026ce41-e6ac-4978-bf57-b82b601b238f",
   "metadata": {},
   "outputs": [],
   "source": [
    "from langchain_openai.chat_models import ChatOpenAI\n"
   ]
  },
  {
   "cell_type": "code",
   "execution_count": 4,
   "id": "b5ed0f49-04bb-4c61-9cdf-259e8982cc06",
   "metadata": {},
   "outputs": [],
   "source": [
    "model = ChatOpenAI(model=\"gpt-4o-mini\")"
   ]
  },
  {
   "cell_type": "code",
   "execution_count": 7,
   "id": "4b36b1d8-f984-4331-abce-c62aa1f8444a",
   "metadata": {},
   "outputs": [],
   "source": [
    "response = model.invoke(\"What is capital of UK?\")"
   ]
  },
  {
   "cell_type": "code",
   "execution_count": 8,
   "id": "9b04eac2-c597-4eb5-8fa4-0f2a6898eb7a",
   "metadata": {},
   "outputs": [
    {
     "name": "stdout",
     "output_type": "stream",
     "text": [
      "The capital of the United Kingdom is London.\n"
     ]
    }
   ],
   "source": [
    "print(response.content)"
   ]
  },
  {
   "cell_type": "code",
   "execution_count": null,
   "id": "b5ebc75c-c287-4bd6-829a-f9ea8647cfdd",
   "metadata": {},
   "outputs": [],
   "source": []
  },
  {
   "cell_type": "code",
   "execution_count": null,
   "id": "0b2b4b99-7103-4a2e-9abe-78513f91d3a1",
   "metadata": {},
   "outputs": [],
   "source": []
  }
 ],
 "metadata": {
  "kernelspec": {
   "display_name": "Python 3 (ipykernel)",
   "language": "python",
   "name": "python3"
  },
  "language_info": {
   "codemirror_mode": {
    "name": "ipython",
    "version": 3
   },
   "file_extension": ".py",
   "mimetype": "text/x-python",
   "name": "python",
   "nbconvert_exporter": "python",
   "pygments_lexer": "ipython3",
   "version": "3.13.4"
  }
 },
 "nbformat": 4,
 "nbformat_minor": 5
}
